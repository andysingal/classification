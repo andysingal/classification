{
  "nbformat": 4,
  "nbformat_minor": 0,
  "metadata": {
    "colab": {
      "provenance": [],
      "authorship_tag": "ABX9TyO7L0qSKSXVFDFG8Y/RSm74",
      "include_colab_link": true
    },
    "kernelspec": {
      "name": "python3",
      "display_name": "Python 3"
    },
    "language_info": {
      "name": "python"
    }
  },
  "cells": [
    {
      "cell_type": "markdown",
      "metadata": {
        "id": "view-in-github",
        "colab_type": "text"
      },
      "source": [
        "<a href=\"https://colab.research.google.com/github/andysingal/classification/blob/main/pytorch_classification.ipynb\" target=\"_parent\"><img src=\"https://colab.research.google.com/assets/colab-badge.svg\" alt=\"Open In Colab\"/></a>"
      ]
    },
    {
      "cell_type": "code",
      "execution_count": 1,
      "metadata": {
        "id": "XX8cokR2Vs3A"
      },
      "outputs": [],
      "source": [
        "%%capture\n",
        "!pip install pycrayon"
      ]
    },
    {
      "cell_type": "code",
      "source": [
        "import sys\n",
        "import os\n",
        "import sys\n",
        "import random\n",
        "import time\n",
        "import math\n",
        "import numpy as np\n",
        "import matplotlib.pyplot as plt\n",
        "import pylab as pl\n",
        "\n",
        "%matplotlib inline\n",
        "from matplotlib_inline import backend_inline\n",
        "\n",
        "\n",
        "\n",
        "from pycrayon import (\n",
        "    CrayonClient,\n",
        ")\n",
        "\n",
        "from IPython import (\n",
        "    display,\n",
        ")\n",
        "\n",
        "from IPython.display import (\n",
        "    Image,\n",
        "    clear_output,\n",
        ")\n",
        "\n",
        "sys.path.insert(0, '..')\n",
        "# get matplotlib configuration\n",
        "%matplotlib inline"
      ],
      "metadata": {
        "id": "8MlWhlh7Vt32"
      },
      "execution_count": 3,
      "outputs": []
    },
    {
      "cell_type": "markdown",
      "source": [
        "Eventually, the performance of a classifier—computational performance as well as predictive power—depends heavily on the underlying data that is available for learning. The five main steps that are involved in training a supervised machine learning algorithm can be summarized as follows:\n",
        "\n",
        "- Selecting features and collecting labeled training examples\n",
        "- Choosing a performance metric\n",
        "- Choosing a learning algorithm and training a model\n",
        "- Evaluating the performance of the model\n",
        "- Changing the settings of the algorithm and tuning the model."
      ],
      "metadata": {
        "id": "tXJgfEdIWDEK"
      }
    },
    {
      "cell_type": "code",
      "source": [],
      "metadata": {
        "id": "9iJGwF9CVwZv"
      },
      "execution_count": null,
      "outputs": []
    }
  ]
}