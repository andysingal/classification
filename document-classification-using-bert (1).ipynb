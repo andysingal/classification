{
 "cells": [
  {
   "cell_type": "markdown",
   "metadata": {},
   "source": [
    "## Introduction\n",
    "\n",
    "**BERT (Bidirectional Encoder Representations from Transformers)** is a state-of-the-art NLP model from Google for the purpose of this classification problem due to its efficiency, accuracy, and speed. BERT is inspired by the concept of Transfer Learning that is commonly used in the field of Computer Vision. The use of pre-trained models on massive unlabelled datasets such as that of Wikipedia and Book Corpus has helped speed up the training process and excellent results for BERT. It uses a multi-layer bidirectional transformer encoder that can be fine-tuned using an additional output layer to generate state=of-the-art models for various NLP tasks. The bi-directionality of the model helps capturing both the left and right context for truly understanding the meaning of a language."
   ]
  },
  {
   "cell_type": "markdown",
   "metadata": {},
   "source": [
    "## Dataset\n",
    "\n",
    "The dataset used is text from [BBC full-text dataset](https://www.kaggle.com/shivamkushwaha/bbc-full-text-document-classification). The model attempts to predict which category the text is about. So is a multi-class classification problem."
   ]
  },
  {
   "cell_type": "markdown",
   "metadata": {},
   "source": [
    "Here we require Tensorflow version 1.15"
   ]
  },
  {
   "cell_type": "code",
   "execution_count": null,
   "metadata": {
    "execution": {
     "iopub.execute_input": "2022-02-22T11:28:13.693259Z",
     "iopub.status.busy": "2022-02-22T11:28:13.692718Z",
     "iopub.status.idle": "2022-02-22T11:29:23.708614Z",
     "shell.execute_reply": "2022-02-22T11:29:23.707685Z",
     "shell.execute_reply.started": "2022-02-22T11:28:13.693159Z"
    }
   },
   "outputs": [],
   "source": [
    "!pip uninstall tensorflow -y \n",
    "!pip install tensorflow==1.15"
   ]
  },
  {
   "cell_type": "markdown",
   "metadata": {},
   "source": [
    "Getting bert functions"
   ]
  },
  {
   "cell_type": "code",
   "execution_count": null,
   "metadata": {
    "execution": {
     "iopub.execute_input": "2022-02-22T11:29:23.710928Z",
     "iopub.status.busy": "2022-02-22T11:29:23.710596Z",
     "iopub.status.idle": "2022-02-22T11:29:28.122106Z",
     "shell.execute_reply": "2022-02-22T11:29:28.121322Z",
     "shell.execute_reply.started": "2022-02-22T11:29:23.710896Z"
    }
   },
   "outputs": [],
   "source": [
    "!wget https://raw.githubusercontent.com/google-research/bert/master/modeling.py \n",
    "!wget https://raw.githubusercontent.com/google-research/bert/master/optimization.py\n",
    "!wget https://raw.githubusercontent.com/google-research/bert/master/run_classifier.py\n",
    "!wget https://raw.githubusercontent.com/google-research/bert/master/tokenization.py"
   ]
  },
  {
   "cell_type": "markdown",
   "metadata": {},
   "source": [
    "### Import necessary libraries"
   ]
  },
  {
   "cell_type": "code",
   "execution_count": null,
   "metadata": {
    "execution": {
     "iopub.execute_input": "2022-02-22T11:41:39.099227Z",
     "iopub.status.busy": "2022-02-22T11:41:39.098654Z",
     "iopub.status.idle": "2022-02-22T11:41:48.269237Z",
     "shell.execute_reply": "2022-02-22T11:41:48.268229Z",
     "shell.execute_reply.started": "2022-02-22T11:41:39.099043Z"
    }
   },
   "outputs": [],
   "source": [
    "import numpy as np # linear algebra\n",
    "import re, os\n",
    "import pandas as pd # data processing, CSV file I/O (e.g. pd.read_csv)\n",
    "from sklearn.preprocessing import LabelEncoder\n",
    "from nltk.corpus import stopwords\n",
    "from sklearn.model_selection import train_test_split\n",
    "import tensorflow as tf\n",
    "\n",
    "import datetime\n",
    "from datetime import datetime\n",
    "\n",
    "# BERT\n",
    "import optimization\n",
    "import run_classifier\n",
    "import tokenization\n",
    "import tensorflow_hub as hub"
   ]
  },
  {
   "cell_type": "code",
   "execution_count": null,
   "metadata": {
    "execution": {
     "iopub.execute_input": "2022-02-22T11:42:07.240649Z",
     "iopub.status.busy": "2022-02-22T11:42:07.240257Z",
     "iopub.status.idle": "2022-02-22T11:42:07.251227Z",
     "shell.execute_reply": "2022-02-22T11:42:07.250193Z",
     "shell.execute_reply.started": "2022-02-22T11:42:07.240603Z"
    }
   },
   "outputs": [],
   "source": [
    "# Checking tensorflow version (should be 1.15)\n",
    "tf.__version__"
   ]
  },
  {
   "cell_type": "markdown",
   "metadata": {},
   "source": [
    "### Read the training dataset"
   ]
  },
  {
   "cell_type": "code",
   "execution_count": null,
   "metadata": {
    "execution": {
     "iopub.execute_input": "2022-02-22T11:42:10.22343Z",
     "iopub.status.busy": "2022-02-22T11:42:10.22309Z",
     "iopub.status.idle": "2022-02-22T11:42:15.758472Z",
     "shell.execute_reply": "2022-02-22T11:42:15.757571Z",
     "shell.execute_reply.started": "2022-02-22T11:42:10.223395Z"
    }
   },
   "outputs": [],
   "source": [
    "# Get the file details\n",
    "directory = []\n",
    "file = []\n",
    "title = []\n",
    "text = []\n",
    "label = []\n",
    "datapath = '../input/bbc-full-text-document-classification/bbc-fulltext (document classification)/bbc/' \n",
    "for dirname, _ , filenames in os.walk(datapath):\n",
    "    #print('Directory: ', dirname)\n",
    "    #print('Subdir: ', dirname.split('/')[-1])\n",
    "    # remove the Readme.txt file\n",
    "    # will not find file in the second iteration so we skip the error\n",
    "    try:\n",
    "        filenames.remove('README.TXT')\n",
    "    except:\n",
    "        pass\n",
    "    for filename in filenames:\n",
    "        directory.append(dirname)\n",
    "        file.append(filename)\n",
    "        label.append(dirname.split('/')[-1])\n",
    "        fullpathfile = os.path.join(dirname,filename)\n",
    "        with open(fullpathfile, 'r', encoding=\"utf8\", errors='ignore') as infile:\n",
    "            intext = ''\n",
    "            firstline = True\n",
    "            for line in infile:\n",
    "                if firstline:\n",
    "                    title.append(line.replace('\\n',''))\n",
    "                    firstline = False\n",
    "                else:\n",
    "                    intext = intext + ' ' + line.replace('\\n','')\n",
    "            text.append(intext)\n"
   ]
  },
  {
   "cell_type": "markdown",
   "metadata": {},
   "source": [
    "### Get the data as dataframe"
   ]
  },
  {
   "cell_type": "code",
   "execution_count": null,
   "metadata": {
    "_cell_guid": "79c7e3d0-c299-4dcb-8224-4455121ee9b0",
    "_uuid": "d629ff2d2480ee46fbb7e2d37f6b5fab8052498a",
    "execution": {
     "iopub.execute_input": "2022-02-22T11:42:15.76053Z",
     "iopub.status.busy": "2022-02-22T11:42:15.760113Z",
     "iopub.status.idle": "2022-02-22T11:42:15.808138Z",
     "shell.execute_reply": "2022-02-22T11:42:15.807093Z",
     "shell.execute_reply.started": "2022-02-22T11:42:15.760488Z"
    }
   },
   "outputs": [],
   "source": [
    "DATA_COLUMN = 'text'\n",
    "LABEL_COLUMN = 'label'\n",
    "\n",
    "fulldf = pd.DataFrame(list(zip(directory, file, title, text, label)), \n",
    "               columns =['directory', 'file', 'title', 'text', 'label'])\n",
    "\n",
    "df = fulldf.filter(['text','label'], axis=1)\n",
    "df.head()"
   ]
  },
  {
   "cell_type": "markdown",
   "metadata": {},
   "source": [
    "Checking the shape of the dataframe"
   ]
  },
  {
   "cell_type": "code",
   "execution_count": null,
   "metadata": {
    "execution": {
     "iopub.execute_input": "2022-02-22T11:42:15.809809Z",
     "iopub.status.busy": "2022-02-22T11:42:15.809519Z",
     "iopub.status.idle": "2022-02-22T11:42:15.823054Z",
     "shell.execute_reply": "2022-02-22T11:42:15.821964Z",
     "shell.execute_reply.started": "2022-02-22T11:42:15.80977Z"
    }
   },
   "outputs": [],
   "source": [
    "df.shape"
   ]
  },
  {
   "cell_type": "markdown",
   "metadata": {},
   "source": [
    "Checking if null values exist"
   ]
  },
  {
   "cell_type": "code",
   "execution_count": null,
   "metadata": {
    "execution": {
     "iopub.execute_input": "2022-02-22T11:42:15.825916Z",
     "iopub.status.busy": "2022-02-22T11:42:15.825482Z",
     "iopub.status.idle": "2022-02-22T11:42:15.852326Z",
     "shell.execute_reply": "2022-02-22T11:42:15.850965Z",
     "shell.execute_reply.started": "2022-02-22T11:42:15.825857Z"
    }
   },
   "outputs": [],
   "source": [
    "df.isnull().sum()"
   ]
  },
  {
   "cell_type": "markdown",
   "metadata": {},
   "source": [
    "Get unique labels"
   ]
  },
  {
   "cell_type": "code",
   "execution_count": null,
   "metadata": {
    "execution": {
     "iopub.execute_input": "2022-02-22T11:42:15.854385Z",
     "iopub.status.busy": "2022-02-22T11:42:15.853993Z",
     "iopub.status.idle": "2022-02-22T11:42:15.874016Z",
     "shell.execute_reply": "2022-02-22T11:42:15.872994Z",
     "shell.execute_reply.started": "2022-02-22T11:42:15.854331Z"
    }
   },
   "outputs": [],
   "source": [
    "for label in np.unique(df['label']):\n",
    "    print(label)"
   ]
  },
  {
   "cell_type": "code",
   "execution_count": null,
   "metadata": {
    "execution": {
     "iopub.execute_input": "2022-02-22T11:42:15.88678Z",
     "iopub.status.busy": "2022-02-22T11:42:15.881432Z",
     "iopub.status.idle": "2022-02-22T11:42:16.294507Z",
     "shell.execute_reply": "2022-02-22T11:42:16.293297Z",
     "shell.execute_reply.started": "2022-02-22T11:42:15.886722Z"
    }
   },
   "outputs": [],
   "source": [
    "# Checking number of records of each label\n",
    "df['label'].value_counts().sort_values(ascending=False).plot(kind='bar')"
   ]
  },
  {
   "cell_type": "markdown",
   "metadata": {},
   "source": [
    "### Encode the labels into numeric"
   ]
  },
  {
   "cell_type": "code",
   "execution_count": null,
   "metadata": {
    "execution": {
     "iopub.execute_input": "2022-02-22T11:42:16.29619Z",
     "iopub.status.busy": "2022-02-22T11:42:16.295824Z",
     "iopub.status.idle": "2022-02-22T11:42:16.321482Z",
     "shell.execute_reply": "2022-02-22T11:42:16.319154Z",
     "shell.execute_reply.started": "2022-02-22T11:42:16.296148Z"
    }
   },
   "outputs": [],
   "source": [
    "le = LabelEncoder()\n",
    "df['label'] = le.fit_transform(df['label'])\n",
    "df.head()"
   ]
  },
  {
   "cell_type": "markdown",
   "metadata": {},
   "source": [
    "### Perform preprocessing to text"
   ]
  },
  {
   "cell_type": "code",
   "execution_count": null,
   "metadata": {
    "execution": {
     "iopub.execute_input": "2022-02-22T11:42:16.32357Z",
     "iopub.status.busy": "2022-02-22T11:42:16.323135Z",
     "iopub.status.idle": "2022-02-22T11:42:16.343669Z",
     "shell.execute_reply": "2022-02-22T11:42:16.342512Z",
     "shell.execute_reply.started": "2022-02-22T11:42:16.323526Z"
    }
   },
   "outputs": [],
   "source": [
    "REPLACE_BY_SPACE_RE = re.compile('[/(){}\\[\\]\\|@,;]')\n",
    "BAD_SYMBOLS_RE = re.compile('[^0-9a-z #+_]')\n",
    "STOPWORDS = set(stopwords.words('english'))\n",
    "\n",
    "def clean_text(text):\n",
    "    \"\"\"\n",
    "        text: a string\n",
    "        \n",
    "        return: modified initial string\n",
    "    \"\"\"\n",
    "    text = text.lower() # lowercase text\n",
    "    text = REPLACE_BY_SPACE_RE.sub(' ', text) # replace REPLACE_BY_SPACE_RE symbols by space in text. substitute the matched string in REPLACE_BY_SPACE_RE with space.\n",
    "    text = BAD_SYMBOLS_RE.sub('', text) # remove symbols which are in BAD_SYMBOLS_RE from text. substitute the matched string in BAD_SYMBOLS_RE with nothing. \n",
    "#     text = re.sub(r'\\W+', '', text)\n",
    "    text = ' '.join(word for word in text.split() if word not in STOPWORDS) # remove stopwors from text\n",
    "    return text"
   ]
  },
  {
   "cell_type": "code",
   "execution_count": null,
   "metadata": {
    "execution": {
     "iopub.execute_input": "2022-02-22T11:42:16.345733Z",
     "iopub.status.busy": "2022-02-22T11:42:16.345336Z",
     "iopub.status.idle": "2022-02-22T11:42:17.127269Z",
     "shell.execute_reply": "2022-02-22T11:42:17.126156Z",
     "shell.execute_reply.started": "2022-02-22T11:42:16.345679Z"
    }
   },
   "outputs": [],
   "source": [
    "df['text'] = df['text'].apply(clean_text)\n",
    "df['text'] = df['text'].str.replace('\\d+', '')\n",
    "df.head()"
   ]
  },
  {
   "cell_type": "markdown",
   "metadata": {},
   "source": [
    "### Processing text for BERT model\n",
    "\n"
   ]
  },
  {
   "cell_type": "code",
   "execution_count": null,
   "metadata": {
    "execution": {
     "iopub.execute_input": "2022-02-22T11:42:17.131808Z",
     "iopub.status.busy": "2022-02-22T11:42:17.131223Z",
     "iopub.status.idle": "2022-02-22T11:42:17.146005Z",
     "shell.execute_reply": "2022-02-22T11:42:17.145099Z",
     "shell.execute_reply.started": "2022-02-22T11:42:17.131737Z"
    }
   },
   "outputs": [],
   "source": [
    "def get_split(text1):\n",
    "    l_total = []\n",
    "    l_parcial = []\n",
    "    if len(text1.split())//150 >0:\n",
    "        n = len(text1.split())//150\n",
    "    else: \n",
    "        n = 1\n",
    "    for w in range(n):\n",
    "        if w == 0:\n",
    "            l_parcial = text1.split()[:200]\n",
    "            l_total.append(\" \".join(l_parcial))\n",
    "        else:\n",
    "            l_parcial = text1.split()[w*150:w*150 + 200]\n",
    "            l_total.append(\" \".join(l_parcial))\n",
    "    return l_total"
   ]
  },
  {
   "cell_type": "code",
   "execution_count": null,
   "metadata": {
    "execution": {
     "iopub.execute_input": "2022-02-22T11:42:17.153862Z",
     "iopub.status.busy": "2022-02-22T11:42:17.151153Z",
     "iopub.status.idle": "2022-02-22T11:42:17.327743Z",
     "shell.execute_reply": "2022-02-22T11:42:17.326831Z",
     "shell.execute_reply.started": "2022-02-22T11:42:17.153805Z"
    }
   },
   "outputs": [],
   "source": [
    "df['text_split'] = df['text'].apply(get_split)\n",
    "df.head()"
   ]
  },
  {
   "cell_type": "markdown",
   "metadata": {},
   "source": [
    "Setting output directory for BERT"
   ]
  },
  {
   "cell_type": "code",
   "execution_count": null,
   "metadata": {
    "execution": {
     "iopub.execute_input": "2022-02-22T11:42:17.335449Z",
     "iopub.status.busy": "2022-02-22T11:42:17.332889Z",
     "iopub.status.idle": "2022-02-22T11:42:17.674369Z",
     "shell.execute_reply": "2022-02-22T11:42:17.673339Z",
     "shell.execute_reply.started": "2022-02-22T11:42:17.335392Z"
    }
   },
   "outputs": [],
   "source": [
    "# Set the output directory for saving model file\n",
    "OUTPUT_DIR = '/bert_news_category'\n",
    "\n",
    "#@markdown Whether or not to clear/delete the directory and create a new one\n",
    "DO_DELETE = True #@param {type:\"boolean\"}\n",
    "\n",
    "if DO_DELETE:\n",
    "    try:\n",
    "        tf.gfile.DeleteRecursively(OUTPUT_DIR)\n",
    "#         tf.compat.v1.gfile.DeleteRecursively(OUTPUT_DIR)\n",
    "    except:\n",
    "        pass\n",
    "\n",
    "tf.gfile.MakeDirs(OUTPUT_DIR)\n",
    "print('***** Model output directory: {} *****'.format(OUTPUT_DIR))"
   ]
  },
  {
   "cell_type": "markdown",
   "metadata": {},
   "source": [
    "### Split into 80% training and 20% validation"
   ]
  },
  {
   "cell_type": "code",
   "execution_count": null,
   "metadata": {
    "execution": {
     "iopub.execute_input": "2022-02-22T11:42:17.67585Z",
     "iopub.status.busy": "2022-02-22T11:42:17.675555Z",
     "iopub.status.idle": "2022-02-22T11:42:17.723953Z",
     "shell.execute_reply": "2022-02-22T11:42:17.722736Z",
     "shell.execute_reply.started": "2022-02-22T11:42:17.675811Z"
    }
   },
   "outputs": [],
   "source": [
    "train, val = train_test_split(df, test_size=0.2, random_state=35)\n",
    "train.reset_index(drop=True, inplace=True)\n",
    "train.head(2)"
   ]
  },
  {
   "cell_type": "code",
   "execution_count": null,
   "metadata": {
    "execution": {
     "iopub.execute_input": "2022-02-22T11:42:17.732606Z",
     "iopub.status.busy": "2022-02-22T11:42:17.729763Z",
     "iopub.status.idle": "2022-02-22T11:42:17.750163Z",
     "shell.execute_reply": "2022-02-22T11:42:17.747587Z",
     "shell.execute_reply.started": "2022-02-22T11:42:17.732548Z"
    }
   },
   "outputs": [],
   "source": [
    "# Get labels\n",
    "label_list = [x for x in np.unique(train.label)]\n",
    "label_list"
   ]
  },
  {
   "cell_type": "code",
   "execution_count": null,
   "metadata": {
    "execution": {
     "iopub.execute_input": "2022-02-22T11:42:17.753251Z",
     "iopub.status.busy": "2022-02-22T11:42:17.752339Z",
     "iopub.status.idle": "2022-02-22T11:42:17.781355Z",
     "shell.execute_reply": "2022-02-22T11:42:17.780263Z",
     "shell.execute_reply.started": "2022-02-22T11:42:17.753176Z"
    }
   },
   "outputs": [],
   "source": [
    "val.reset_index(drop=True, inplace=True)\n",
    "val.head(2)"
   ]
  },
  {
   "cell_type": "markdown",
   "metadata": {},
   "source": [
    "### Check shape of train and validation data"
   ]
  },
  {
   "cell_type": "code",
   "execution_count": null,
   "metadata": {
    "execution": {
     "iopub.execute_input": "2022-02-22T11:42:17.783168Z",
     "iopub.status.busy": "2022-02-22T11:42:17.782839Z",
     "iopub.status.idle": "2022-02-22T11:42:17.790665Z",
     "shell.execute_reply": "2022-02-22T11:42:17.789666Z",
     "shell.execute_reply.started": "2022-02-22T11:42:17.783125Z"
    }
   },
   "outputs": [],
   "source": [
    "val.shape, train.shape"
   ]
  },
  {
   "cell_type": "code",
   "execution_count": null,
   "metadata": {
    "execution": {
     "iopub.execute_input": "2022-02-22T11:42:17.79257Z",
     "iopub.status.busy": "2022-02-22T11:42:17.792168Z",
     "iopub.status.idle": "2022-02-22T11:42:18.115543Z",
     "shell.execute_reply": "2022-02-22T11:42:18.114298Z",
     "shell.execute_reply.started": "2022-02-22T11:42:17.792516Z"
    }
   },
   "outputs": [],
   "source": [
    "train_l = []\n",
    "label_l = []\n",
    "index_l =[]\n",
    "for idx,row in train.iterrows():\n",
    "    for l in row['text_split']:\n",
    "        train_l.append(l)\n",
    "        label_l.append(row['label'])\n",
    "        index_l.append(idx)\n",
    "len(train_l), len(label_l), len(index_l)"
   ]
  },
  {
   "cell_type": "code",
   "execution_count": null,
   "metadata": {
    "execution": {
     "iopub.execute_input": "2022-02-22T11:42:18.117885Z",
     "iopub.status.busy": "2022-02-22T11:42:18.117249Z",
     "iopub.status.idle": "2022-02-22T11:42:18.172896Z",
     "shell.execute_reply": "2022-02-22T11:42:18.17192Z",
     "shell.execute_reply.started": "2022-02-22T11:42:18.117825Z"
    }
   },
   "outputs": [],
   "source": [
    "val_l = []\n",
    "val_label_l = []\n",
    "val_index_l = []\n",
    "for idx,row in val.iterrows():\n",
    "    for l in row['text_split']:\n",
    "        val_l.append(l)\n",
    "        val_label_l.append(row['label'])\n",
    "        val_index_l.append(idx)\n",
    "len(val_l), len(val_label_l), len(val_index_l)"
   ]
  },
  {
   "cell_type": "markdown",
   "metadata": {},
   "source": [
    "### Getting train and validation set as dataframe"
   ]
  },
  {
   "cell_type": "code",
   "execution_count": null,
   "metadata": {
    "execution": {
     "iopub.execute_input": "2022-02-22T11:42:18.180703Z",
     "iopub.status.busy": "2022-02-22T11:42:18.17815Z",
     "iopub.status.idle": "2022-02-22T11:42:18.221349Z",
     "shell.execute_reply": "2022-02-22T11:42:18.220214Z",
     "shell.execute_reply.started": "2022-02-22T11:42:18.180643Z"
    }
   },
   "outputs": [],
   "source": [
    "train_df = pd.DataFrame({DATA_COLUMN:train_l, LABEL_COLUMN:label_l})\n",
    "train_df.head()"
   ]
  },
  {
   "cell_type": "code",
   "execution_count": null,
   "metadata": {
    "execution": {
     "iopub.execute_input": "2022-02-22T11:42:18.229587Z",
     "iopub.status.busy": "2022-02-22T11:42:18.226874Z",
     "iopub.status.idle": "2022-02-22T11:42:18.262278Z",
     "shell.execute_reply": "2022-02-22T11:42:18.261207Z",
     "shell.execute_reply.started": "2022-02-22T11:42:18.229528Z"
    }
   },
   "outputs": [],
   "source": [
    "val_df = pd.DataFrame({DATA_COLUMN:val_l, LABEL_COLUMN:val_label_l})\n",
    "val_df.head()"
   ]
  },
  {
   "cell_type": "code",
   "execution_count": null,
   "metadata": {
    "execution": {
     "iopub.execute_input": "2022-02-22T11:42:18.269995Z",
     "iopub.status.busy": "2022-02-22T11:42:18.267481Z",
     "iopub.status.idle": "2022-02-22T11:42:18.276239Z",
     "shell.execute_reply": "2022-02-22T11:42:18.275404Z",
     "shell.execute_reply.started": "2022-02-22T11:42:18.269942Z"
    }
   },
   "outputs": [],
   "source": [
    "# X_train, X_val, y_train, y_val = train_test_split(df['text'], df['label'], test_size=0.20, random_state=42)"
   ]
  },
  {
   "cell_type": "markdown",
   "metadata": {},
   "source": [
    "### Fine tuning the BERT model\n",
    "\n",
    "The BERT model can be applied for any kind of classification task by fine-tuning it."
   ]
  },
  {
   "cell_type": "markdown",
   "metadata": {},
   "source": [
    "#### 1. Preparing the input data, i.e create **InputExample** using the BERT’s constructor."
   ]
  },
  {
   "cell_type": "code",
   "execution_count": null,
   "metadata": {
    "execution": {
     "iopub.execute_input": "2022-02-22T11:42:18.284436Z",
     "iopub.status.busy": "2022-02-22T11:42:18.281523Z",
     "iopub.status.idle": "2022-02-22T11:42:18.363234Z",
     "shell.execute_reply": "2022-02-22T11:42:18.362194Z",
     "shell.execute_reply.started": "2022-02-22T11:42:18.284377Z"
    }
   },
   "outputs": [],
   "source": [
    "# Use the InputExample class from BERT's run_classifier code to create examples from the data\n",
    "train_InputExamples = train.apply(lambda x: run_classifier.InputExample(guid=None, # Globally unique ID for bookkeeping, unused in this example\n",
    "                                                                   text_a = x[DATA_COLUMN], \n",
    "                                                                   text_b = None, \n",
    "                                                                   label = x[LABEL_COLUMN]), axis = 1)\n",
    "\n",
    "val_InputExamples = val.apply(lambda x: run_classifier.InputExample(guid=None, \n",
    "                                                                   text_a = x[DATA_COLUMN], \n",
    "                                                                   text_b = None, \n",
    "                                                                   label = x[LABEL_COLUMN]), axis = 1)"
   ]
  },
  {
   "cell_type": "code",
   "execution_count": null,
   "metadata": {
    "execution": {
     "iopub.execute_input": "2022-02-22T11:42:18.37125Z",
     "iopub.status.busy": "2022-02-22T11:42:18.368554Z",
     "iopub.status.idle": "2022-02-22T11:42:18.38643Z",
     "shell.execute_reply": "2022-02-22T11:42:18.385367Z",
     "shell.execute_reply.started": "2022-02-22T11:42:18.371195Z"
    }
   },
   "outputs": [],
   "source": [
    "train_InputExamples"
   ]
  },
  {
   "cell_type": "code",
   "execution_count": null,
   "metadata": {
    "execution": {
     "iopub.execute_input": "2022-02-22T11:42:18.407283Z",
     "iopub.status.busy": "2022-02-22T11:42:18.394236Z",
     "iopub.status.idle": "2022-02-22T11:42:18.421776Z",
     "shell.execute_reply": "2022-02-22T11:42:18.420856Z",
     "shell.execute_reply.started": "2022-02-22T11:42:18.407213Z"
    }
   },
   "outputs": [],
   "source": [
    "print(\"Row 0 - guid of training set : \", train_InputExamples.iloc[0].guid)\n",
    "print(\"\\n__________\\nRow 0 - text_a of training set : \", train_InputExamples.iloc[0].text_a)\n",
    "print(\"\\n__________\\nRow 0 - text_b of training set : \", train_InputExamples.iloc[0].text_b)\n",
    "print(\"\\n__________\\nRow 0 - label of training set : \", train_InputExamples.iloc[0].label)"
   ]
  },
  {
   "cell_type": "code",
   "execution_count": null,
   "metadata": {
    "execution": {
     "iopub.execute_input": "2022-02-22T11:42:18.430088Z",
     "iopub.status.busy": "2022-02-22T11:42:18.427374Z",
     "iopub.status.idle": "2022-02-22T11:42:24.931278Z",
     "shell.execute_reply": "2022-02-22T11:42:24.930214Z",
     "shell.execute_reply.started": "2022-02-22T11:42:18.43001Z"
    }
   },
   "outputs": [],
   "source": [
    "BERT_MODEL_HUB = \"https://tfhub.dev/google/bert_uncased_L-12_H-768_A-12/1\"\n",
    "\n",
    "def create_tokenizer_from_hub_module():\n",
    "  \"\"\"Get the vocab file and casing info from the Hub module.\"\"\"\n",
    "  with tf.Graph().as_default():\n",
    "    bert_module = hub.Module(BERT_MODEL_HUB)\n",
    "    tokenization_info = bert_module(signature=\"tokenization_info\", as_dict=True)\n",
    "    with tf.Session() as sess:\n",
    "#     with tf.compat.v1.Session() as sess:\n",
    "        vocab_file, do_lower_case = sess.run([tokenization_info[\"vocab_file\"],\n",
    "                                            tokenization_info[\"do_lower_case\"]])\n",
    "      \n",
    "    return tokenization.FullTokenizer(\n",
    "      vocab_file=vocab_file, do_lower_case=do_lower_case)\n",
    "\n",
    "tokenizer = create_tokenizer_from_hub_module()"
   ]
  },
  {
   "cell_type": "code",
   "execution_count": null,
   "metadata": {
    "execution": {
     "iopub.execute_input": "2022-02-22T11:42:24.933376Z",
     "iopub.status.busy": "2022-02-22T11:42:24.932804Z",
     "iopub.status.idle": "2022-02-22T11:42:24.941379Z",
     "shell.execute_reply": "2022-02-22T11:42:24.940336Z",
     "shell.execute_reply.started": "2022-02-22T11:42:24.93333Z"
    }
   },
   "outputs": [],
   "source": [
    "len(tokenizer.vocab.keys())"
   ]
  },
  {
   "cell_type": "code",
   "execution_count": null,
   "metadata": {
    "execution": {
     "iopub.execute_input": "2022-02-22T11:42:24.943235Z",
     "iopub.status.busy": "2022-02-22T11:42:24.942818Z",
     "iopub.status.idle": "2022-02-22T11:42:24.977528Z",
     "shell.execute_reply": "2022-02-22T11:42:24.974884Z",
     "shell.execute_reply.started": "2022-02-22T11:42:24.943195Z"
    }
   },
   "outputs": [],
   "source": [
    "#Here is what the tokenised sample of the first training set observation looks like\n",
    "print(tokenizer.tokenize(train_InputExamples.iloc[0].text_a))"
   ]
  },
  {
   "cell_type": "markdown",
   "metadata": {},
   "source": [
    "#### 2. Converting the train and validation features to InputFeatures that BERT understands."
   ]
  },
  {
   "cell_type": "code",
   "execution_count": null,
   "metadata": {
    "execution": {
     "iopub.execute_input": "2022-02-22T11:42:24.982791Z",
     "iopub.status.busy": "2022-02-22T11:42:24.982235Z",
     "iopub.status.idle": "2022-02-22T11:42:47.318288Z",
     "shell.execute_reply": "2022-02-22T11:42:47.316895Z",
     "shell.execute_reply.started": "2022-02-22T11:42:24.982743Z"
    }
   },
   "outputs": [],
   "source": [
    "MAX_SEQ_LENGTH = 200\n",
    "\n",
    "train_features = run_classifier.convert_examples_to_features(train_InputExamples, label_list, MAX_SEQ_LENGTH, tokenizer)\n",
    "val_features = run_classifier.convert_examples_to_features(val_InputExamples, label_list, MAX_SEQ_LENGTH, tokenizer)"
   ]
  },
  {
   "cell_type": "code",
   "execution_count": null,
   "metadata": {
    "execution": {
     "iopub.execute_input": "2022-02-22T11:42:47.326259Z",
     "iopub.status.busy": "2022-02-22T11:42:47.321793Z",
     "iopub.status.idle": "2022-02-22T11:42:47.362928Z",
     "shell.execute_reply": "2022-02-22T11:42:47.359755Z",
     "shell.execute_reply.started": "2022-02-22T11:42:47.326179Z"
    }
   },
   "outputs": [],
   "source": [
    "#Example on first observation in the training set\n",
    "print(\"Sentence : \", train_InputExamples.iloc[0].text_a)\n",
    "print(\"-\"*30)\n",
    "print(\"Tokens : \", tokenizer.tokenize(train_InputExamples.iloc[0].text_a))\n",
    "print(\"-\"*30)\n",
    "print(\"Input IDs : \", train_features[0].input_ids)\n",
    "print(\"-\"*30)\n",
    "print(\"Input Masks : \", train_features[0].input_mask)\n",
    "print(\"-\"*30)\n",
    "print(\"Segment IDs : \", train_features[0].segment_ids)"
   ]
  },
  {
   "cell_type": "markdown",
   "metadata": {},
   "source": [
    "### Creating prediction model"
   ]
  },
  {
   "cell_type": "code",
   "execution_count": null,
   "metadata": {
    "execution": {
     "iopub.execute_input": "2022-02-22T11:42:47.373466Z",
     "iopub.status.busy": "2022-02-22T11:42:47.369474Z",
     "iopub.status.idle": "2022-02-22T11:42:47.400225Z",
     "shell.execute_reply": "2022-02-22T11:42:47.39912Z",
     "shell.execute_reply.started": "2022-02-22T11:42:47.373374Z"
    }
   },
   "outputs": [],
   "source": [
    "def create_model(is_predicting, input_ids, input_mask, segment_ids, labels,\n",
    "                 num_labels):\n",
    "    \"\"\"\n",
    "    Create models for prediction using BERT.\n",
    "    \"\"\"\n",
    "    bert_module = hub.Module(\n",
    "        BERT_MODEL_HUB,\n",
    "        trainable=True)\n",
    "    bert_inputs = dict(\n",
    "      input_ids=input_ids,\n",
    "      input_mask=input_mask,\n",
    "      segment_ids=segment_ids)\n",
    "    bert_outputs = bert_module(\n",
    "      inputs=bert_inputs,\n",
    "      signature=\"tokens\",\n",
    "      as_dict=True)\n",
    "\n",
    "    # Use \"pooled_output\" for classification tasks on an entire sentence.\n",
    "    # Use \"sequence_outputs\" for token-level output.\n",
    "    output_layer = bert_outputs[\"pooled_output\"]\n",
    "    # with tf.Session() as sess:\n",
    "    output_layer1 = bert_outputs[\"pooled_output\"]\n",
    "    # output_layer1 = 999\n",
    "    hidden_size = output_layer.shape[-1].value\n",
    "\n",
    "    # Create our own layer to tune for politeness data.\n",
    "    output_weights = tf.get_variable(\n",
    "      \"output_weights\", [num_labels, hidden_size],\n",
    "      initializer=tf.truncated_normal_initializer(stddev=0.02))\n",
    "\n",
    "    output_bias = tf.get_variable(\n",
    "      \"output_bias\", [num_labels], initializer=tf.zeros_initializer())\n",
    "\n",
    "    with tf.variable_scope(\"loss\"):\n",
    "\n",
    "        # Dropout helps prevent overfitting\n",
    "        output_layer = tf.nn.dropout(output_layer, keep_prob=0.8)\n",
    "\n",
    "        logits = tf.matmul(output_layer, output_weights, transpose_b=True)\n",
    "        logits = tf.nn.bias_add(logits, output_bias)\n",
    "        log_probs = tf.nn.log_softmax(logits, axis=-1)\n",
    "\n",
    "        # Convert labels into one-hot encoding\n",
    "        one_hot_labels = tf.one_hot(labels, depth=num_labels, dtype=tf.float32)\n",
    "\n",
    "        predicted_labels = tf.squeeze(tf.argmax(log_probs, axis=-1, output_type=tf.int32))\n",
    "        # If we're predicting, we want predicted labels and the probabiltiies.\n",
    "        if is_predicting:\n",
    "            return (predicted_labels, log_probs, output_layer1)\n",
    "\n",
    "        # If we're train/eval, compute loss between predicted and actual label\n",
    "        per_example_loss = -tf.reduce_sum(one_hot_labels * log_probs, axis=-1)\n",
    "        loss = tf.reduce_mean(per_example_loss)\n",
    "        \n",
    "        return (loss, predicted_labels, log_probs)"
   ]
  },
  {
   "cell_type": "code",
   "execution_count": null,
   "metadata": {
    "execution": {
     "iopub.execute_input": "2022-02-22T11:42:47.408499Z",
     "iopub.status.busy": "2022-02-22T11:42:47.405885Z",
     "iopub.status.idle": "2022-02-22T11:42:47.432652Z",
     "shell.execute_reply": "2022-02-22T11:42:47.431241Z",
     "shell.execute_reply.started": "2022-02-22T11:42:47.408442Z"
    }
   },
   "outputs": [],
   "source": [
    "def model_fn_builder(num_labels, learning_rate, num_train_steps,\n",
    "                     num_warmup_steps):\n",
    "    \"\"\"Returns `model_fn` closure for TPUEstimator.\"\"\"\n",
    "    \n",
    "    def model_fn(features, labels, mode, params):  # pylint: disable=unused-argument\n",
    "        \"\"\"The `model_fn` for TPUEstimator.\"\"\"\n",
    "\n",
    "        input_ids = features[\"input_ids\"]\n",
    "        input_mask = features[\"input_mask\"]\n",
    "        segment_ids = features[\"segment_ids\"]\n",
    "        label_ids = features[\"label_ids\"]\n",
    "\n",
    "        is_predicting = (mode == tf.estimator.ModeKeys.PREDICT)\n",
    "\n",
    "        # TRAIN and EVAL\n",
    "        if not is_predicting:\n",
    "\n",
    "            (loss, predicted_labels, log_probs) = create_model(\n",
    "            is_predicting, input_ids, input_mask, segment_ids, label_ids, num_labels)\n",
    "\n",
    "            train_op = optimization.create_optimizer(\n",
    "              loss, learning_rate, num_train_steps, num_warmup_steps, use_tpu=False)\n",
    "\n",
    "            # Calculate evaluation metrics. \n",
    "            def metric_fn(label_ids, predicted_labels):\n",
    "                accuracy = tf.metrics.accuracy(label_ids, predicted_labels)\n",
    "                true_pos = tf.metrics.true_positives(\n",
    "                    label_ids,\n",
    "                    predicted_labels)\n",
    "                true_neg = tf.metrics.true_negatives(\n",
    "                    label_ids,\n",
    "                    predicted_labels)   \n",
    "                false_pos = tf.metrics.false_positives(\n",
    "                    label_ids,\n",
    "                    predicted_labels)  \n",
    "                false_neg = tf.metrics.false_negatives(\n",
    "                    label_ids,\n",
    "                    predicted_labels)\n",
    "\n",
    "                return {\n",
    "                    \"eval_accuracy\": accuracy,\n",
    "                    \"true_positives\": true_pos,\n",
    "                    \"true_negatives\": true_neg,\n",
    "                    \"false_positives\": false_pos,\n",
    "                    \"false_negatives\": false_neg,\n",
    "                    }\n",
    "\n",
    "            eval_metrics = metric_fn(label_ids, predicted_labels)\n",
    "\n",
    "            if mode == tf.estimator.ModeKeys.TRAIN:\n",
    "                return tf.estimator.EstimatorSpec(mode=mode,\n",
    "                  loss=loss,\n",
    "                  train_op=train_op)\n",
    "            else:\n",
    "                return tf.estimator.EstimatorSpec(mode=mode,\n",
    "                    loss=loss,\n",
    "                    eval_metric_ops=eval_metrics)\n",
    "        else:\n",
    "            (predicted_labels, log_probs, output_layer) = create_model(\n",
    "            is_predicting, input_ids, input_mask, segment_ids, label_ids, num_labels)\n",
    "            predictions = {\n",
    "              'probabilities': log_probs,\n",
    "              'labels': predicted_labels,\n",
    "              'pooled_output': output_layer\n",
    "            }\n",
    "        return tf.estimator.EstimatorSpec(mode, predictions=predictions)\n",
    "\n",
    "    # Return the actual model function in the closure\n",
    "    return model_fn"
   ]
  },
  {
   "cell_type": "code",
   "execution_count": null,
   "metadata": {
    "execution": {
     "iopub.execute_input": "2022-02-22T11:42:47.442574Z",
     "iopub.status.busy": "2022-02-22T11:42:47.439559Z",
     "iopub.status.idle": "2022-02-22T11:42:47.460539Z",
     "shell.execute_reply": "2022-02-22T11:42:47.459449Z",
     "shell.execute_reply.started": "2022-02-22T11:42:47.442495Z"
    }
   },
   "outputs": [],
   "source": [
    "BATCH_SIZE = 16\n",
    "LEARNING_RATE = 2e-5\n",
    "NUM_TRAIN_EPOCHS = 1.0\n",
    "# Warmup is a period of time where the learning rate is small and gradually increases--usually helps training.\n",
    "WARMUP_PROPORTION = 0.1\n",
    "# Model configs\n",
    "SAVE_CHECKPOINTS_STEPS = 300\n",
    "SAVE_SUMMARY_STEPS = 100\n",
    "\n",
    "# Compute train and warmup steps from batch size\n",
    "num_train_steps = int(len(train_features) / BATCH_SIZE * NUM_TRAIN_EPOCHS)\n",
    "num_warmup_steps = int(num_train_steps * WARMUP_PROPORTION)\n",
    "\n",
    "# Specify output directory and number of checkpoint steps to save\n",
    "run_config = tf.estimator.RunConfig(\n",
    "    model_dir=OUTPUT_DIR,\n",
    "    save_summary_steps=SAVE_SUMMARY_STEPS,\n",
    "    save_checkpoints_steps=SAVE_CHECKPOINTS_STEPS)\n",
    "\n",
    "# Specify output directory and number of checkpoint steps to save\n",
    "run_config = tf.estimator.RunConfig(\n",
    "    model_dir=OUTPUT_DIR,\n",
    "    save_summary_steps=SAVE_SUMMARY_STEPS,\n",
    "    save_checkpoints_steps=SAVE_CHECKPOINTS_STEPS)"
   ]
  },
  {
   "cell_type": "code",
   "execution_count": null,
   "metadata": {
    "execution": {
     "iopub.execute_input": "2022-02-22T11:42:47.469696Z",
     "iopub.status.busy": "2022-02-22T11:42:47.466562Z",
     "iopub.status.idle": "2022-02-22T11:42:47.48531Z",
     "shell.execute_reply": "2022-02-22T11:42:47.484183Z",
     "shell.execute_reply.started": "2022-02-22T11:42:47.469627Z"
    }
   },
   "outputs": [],
   "source": [
    "num_train_steps, len(label_list)"
   ]
  },
  {
   "cell_type": "markdown",
   "metadata": {},
   "source": [
    "### Initializing the model and the estimator\n"
   ]
  },
  {
   "cell_type": "code",
   "execution_count": null,
   "metadata": {
    "execution": {
     "iopub.execute_input": "2022-02-22T11:42:47.494078Z",
     "iopub.status.busy": "2022-02-22T11:42:47.491434Z",
     "iopub.status.idle": "2022-02-22T11:42:47.514534Z",
     "shell.execute_reply": "2022-02-22T11:42:47.513397Z",
     "shell.execute_reply.started": "2022-02-22T11:42:47.493995Z"
    }
   },
   "outputs": [],
   "source": [
    "model_fn = model_fn_builder(\n",
    "  num_labels=len(label_list),\n",
    "  learning_rate=LEARNING_RATE,\n",
    "  num_train_steps=num_train_steps,\n",
    "  num_warmup_steps=num_warmup_steps)\n",
    "\n",
    "estimator = tf.estimator.Estimator(\n",
    "  model_fn=model_fn,\n",
    "  config=run_config,\n",
    "  params={\"batch_size\": BATCH_SIZE})"
   ]
  },
  {
   "cell_type": "code",
   "execution_count": null,
   "metadata": {
    "execution": {
     "iopub.execute_input": "2022-02-22T11:42:47.523245Z",
     "iopub.status.busy": "2022-02-22T11:42:47.52051Z",
     "iopub.status.idle": "2022-02-22T11:42:47.535235Z",
     "shell.execute_reply": "2022-02-22T11:42:47.53419Z",
     "shell.execute_reply.started": "2022-02-22T11:42:47.523184Z"
    }
   },
   "outputs": [],
   "source": [
    "train_input_fn = run_classifier.input_fn_builder(\n",
    "    features=train_features,\n",
    "    seq_length=MAX_SEQ_LENGTH,\n",
    "    is_training=True,\n",
    "    drop_remainder=False)\n",
    "\n",
    "# Create an input function for validating. drop_remainder = True for using TPUs.\n",
    "val_input_fn = run_classifier.input_fn_builder(\n",
    "    features=val_features,\n",
    "    seq_length=MAX_SEQ_LENGTH,\n",
    "    is_training=False,\n",
    "    drop_remainder=False)"
   ]
  },
  {
   "cell_type": "markdown",
   "metadata": {},
   "source": [
    "### Training the model"
   ]
  },
  {
   "cell_type": "code",
   "execution_count": null,
   "metadata": {
    "execution": {
     "iopub.execute_input": "2022-02-22T11:42:47.544804Z",
     "iopub.status.busy": "2022-02-22T11:42:47.541612Z",
     "iopub.status.idle": "2022-02-22T12:14:37.251142Z",
     "shell.execute_reply": "2022-02-22T12:14:37.250171Z",
     "shell.execute_reply.started": "2022-02-22T11:42:47.54474Z"
    }
   },
   "outputs": [],
   "source": [
    "# Training\n",
    "print(f'Beginning Training!')\n",
    "current_time = datetime.now()\n",
    "estimator.train(input_fn=train_input_fn, max_steps=num_train_steps)\n",
    "print(\"Training took time \", datetime.now() - current_time)"
   ]
  },
  {
   "cell_type": "markdown",
   "metadata": {},
   "source": [
    "### Validation"
   ]
  },
  {
   "cell_type": "code",
   "execution_count": null,
   "metadata": {
    "execution": {
     "iopub.execute_input": "2022-02-22T12:14:37.254183Z",
     "iopub.status.busy": "2022-02-22T12:14:37.253641Z",
     "iopub.status.idle": "2022-02-22T12:17:23.375462Z",
     "shell.execute_reply": "2022-02-22T12:17:23.374554Z",
     "shell.execute_reply.started": "2022-02-22T12:14:37.254149Z"
    }
   },
   "outputs": [],
   "source": [
    "#Evaluating the model with Validation set\n",
    "estimator.evaluate(input_fn=val_input_fn, steps=None)"
   ]
  }
 ],
 "metadata": {
  "kernelspec": {
   "display_name": "Python 3 (ipykernel)",
   "language": "python",
   "name": "python3"
  },
  "language_info": {
   "codemirror_mode": {
    "name": "ipython",
    "version": 3
   },
   "file_extension": ".py",
   "mimetype": "text/x-python",
   "name": "python",
   "nbconvert_exporter": "python",
   "pygments_lexer": "ipython3",
   "version": "3.7.13"
  }
 },
 "nbformat": 4,
 "nbformat_minor": 4
}
